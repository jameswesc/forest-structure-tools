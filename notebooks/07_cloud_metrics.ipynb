{
 "cells": [
  {
   "cell_type": "markdown",
   "id": "00e37bfb",
   "metadata": {},
   "source": [
    "# Cloud Metrics"
   ]
  },
  {
   "cell_type": "code",
   "execution_count": 1,
   "id": "e1c842a5",
   "metadata": {},
   "outputs": [],
   "source": [
    "from pathlib import Path\n",
    "\n",
    "import geopandas as gpd\n",
    "import pandas as pd\n",
    "import numpy as np\n",
    "import pdal\n",
    "\n",
    "from forest_structure_tools.cloud_metrics import height_metrics, quantile_metrics, complexity_metrics\n",
    "from forest_structure_tools.utils import add_suffix"
   ]
  },
  {
   "cell_type": "code",
   "execution_count": 2,
   "id": "3a1df882",
   "metadata": {},
   "outputs": [],
   "source": [
    "data_dir = Path(\"../data\")\n",
    "plots_lidar_dir = data_dir / \"outputs\" / \"plots\" / \"lidar\""
   ]
  },
  {
   "cell_type": "code",
   "execution_count": 3,
   "id": "c47d65bc",
   "metadata": {},
   "outputs": [],
   "source": [
    "def read_plot(plot_id: str):\n",
    "    file_path = plots_lidar_dir / f\"{plot_id}.copc.laz\"\n",
    "    pl = pdal.Reader(str(file_path)).pipeline()\n",
    "    pl.execute()\n",
    "    return pl.arrays[0]"
   ]
  },
  {
   "cell_type": "code",
   "execution_count": 4,
   "id": "37623da9",
   "metadata": {},
   "outputs": [],
   "source": [
    "points = read_plot(\"AGG_O_01_P1\")"
   ]
  },
  {
   "cell_type": "code",
   "execution_count": 5,
   "id": "479c827d",
   "metadata": {},
   "outputs": [],
   "source": [
    "z = points['Z']\n",
    "rn = points['ReturnNumber']\n",
    "nor = points['NumberOfReturns']\n",
    "weights = points['Weight']"
   ]
  },
  {
   "cell_type": "code",
   "execution_count": 6,
   "id": "d7020d5e",
   "metadata": {},
   "outputs": [
    {
     "data": {
      "text/plain": [
       "max           16.275999\n",
       "min            0.000000\n",
       "range         16.275999\n",
       "mean           4.428016\n",
       "median         4.555000\n",
       "max_veg       16.275999\n",
       "min_veg        0.001000\n",
       "range_veg     16.275000\n",
       "mean_veg       5.646877\n",
       "median_veg     6.400000\n",
       "dtype: float32"
      ]
     },
     "execution_count": 6,
     "metadata": {},
     "output_type": "execute_result"
    }
   ],
   "source": [
    "pd.Series({ \n",
    "    **height_metrics(z),\n",
    "    **height_metrics(z[z > 0], suffix='veg')\n",
    "})"
   ]
  }
 ],
 "metadata": {
  "kernelspec": {
   "display_name": "default",
   "language": "python",
   "name": "python3"
  },
  "language_info": {
   "codemirror_mode": {
    "name": "ipython",
    "version": 3
   },
   "file_extension": ".py",
   "mimetype": "text/x-python",
   "name": "python",
   "nbconvert_exporter": "python",
   "pygments_lexer": "ipython3",
   "version": "3.13.5"
  }
 },
 "nbformat": 4,
 "nbformat_minor": 5
}
