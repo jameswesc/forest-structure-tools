{
 "cells": [
  {
   "cell_type": "code",
   "execution_count": 1,
   "id": "f98481bc",
   "metadata": {},
   "outputs": [],
   "source": [
    "from pathlib import Path\n",
    "\n",
    "import geopandas as gpd\n",
    "import pandas as pd\n",
    "import numpy as np\n",
    "import xarray as xr\n",
    "import pdal\n",
    "\n",
    "\n",
    "from forest_structure_tools.metrics import forest_structure_metrics"
   ]
  },
  {
   "cell_type": "code",
   "execution_count": 2,
   "id": "dcb4b275",
   "metadata": {},
   "outputs": [],
   "source": [
    "data_dir = Path(\"../data\")\n",
    "plots_dir = data_dir / \"outputs\" / \"plots\"\n",
    "plots_lidar_dir = plots_dir / \"lidar\"\n",
    "\n",
    "def read_plot_lidar(plot_id: str):\n",
    "    pl = pdal.Reader(str(plots_lidar_dir / f\"{plot_id}.copc.laz\")).pipeline()\n",
    "    pl.execute()\n",
    "\n",
    "    return pl.arrays[0]"
   ]
  },
  {
   "cell_type": "code",
   "execution_count": 3,
   "id": "ce905350",
   "metadata": {},
   "outputs": [],
   "source": [
    "plots_gdf = gpd.read_file(plots_dir / \"plots.geojson\")\n",
    "plot_ids = plots_gdf['id'].to_list()"
   ]
  },
  {
   "cell_type": "code",
   "execution_count": 4,
   "id": "3a52e280",
   "metadata": {},
   "outputs": [],
   "source": [
    "metrics_dir = plots_dir / \"metrics\"\n",
    "metrics_dir.mkdir(parents=True, exist_ok=True)\n",
    "\n",
    "no_grid_dir = metrics_dir / \"no_grid_z_1m\"\n",
    "no_grid_dir.mkdir(parents=True, exist_ok=True)\n",
    "\n",
    "grid_10m_dir = metrics_dir / \"grid_10m_z_1m\"\n",
    "grid_10m_dir.mkdir(parents=True, exist_ok=True)\n",
    "\n",
    "grid_5m_dir = metrics_dir / \"grid_5m_z_1m\"\n",
    "grid_5m_dir.mkdir(parents=True, exist_ok=True)\n",
    "\n",
    "\n",
    "grid_1m_dir = metrics_dir / \"grid_1m_z_1m\"\n",
    "grid_1m_dir.mkdir(parents=True, exist_ok=True)"
   ]
  },
  {
   "cell_type": "code",
   "execution_count": 5,
   "id": "333d557e",
   "metadata": {},
   "outputs": [],
   "source": [
    "# def calculate_and_save_metrics(plot_id: id):\n",
    "#     points = read_plot_lidar(plot_id)\n",
    "#     x = points['X']\n",
    "#     y = points['Y']\n",
    "#     z = points['Z']\n",
    "\n",
    "#     fr_mask = points['ReturnNumber'] == 1\n",
    "#     rn_weights = 1 / points['NumberOfReturns']\n",
    "#     i_weights = points['Intensity']\n",
    "\n",
    "\n",
    "#     v0_mask = z > 0\n",
    "#     v05_mask = z > 0.5\n",
    "\n",
    "#     x_fr = x[fr_mask]\n",
    "#     y_fr = y[fr_mask]\n",
    "#     z_fr = z[fr_mask]\n",
    "\n",
    "#     x_v0 = x[v0_mask]\n",
    "#     y_v0 = y[v0_mask]\n",
    "#     z_v0 = z[v0_mask]\n",
    "\n",
    "#     x_v05 = x[v05_mask]\n",
    "#     y_v05 = y[v05_mask]\n",
    "#     z_v05 = z[v05_mask]\n",
    "\n",
    "#     plot_metrics = forest_structure_metrics(x=x, y=y, z=z, z_bin_size=1)\n",
    "#     plot_metrics_rnw = forest_structure_metrics(x=x, y=y, z=z, z_bin_size=1, weights=rn_weights, suffix='rnw')\n",
    "#     plot_metrics_iw = forest_structure_metrics(x=x, y=y, z=z, z_bin_size=1, weights=i_weights, suffix='iw')\n",
    "#     plot_metrics_fr = forest_structure_metrics(x=x_fr, y=y_fr, z=z_fr, z_bin_size=1, suffix='fr')\n",
    "#     plot_metrics_v0 = forest_structure_metrics(x=x_v0, y=y_v0, z=z_v0, z_bin_size=1, suffix='v0')\n",
    "#     plot_metrics_v05 = forest_structure_metrics(x=x_v05, y=y_v05, z=z_v05, z_bin_size=1, suffix='v05')\n",
    "\n",
    "#     plot_metrics_merged = xr.merge([plot_metrics, plot_metrics_fr, plot_metrics_iw, plot_metrics_rnw, plot_metrics_v0, plot_metrics_v05])\n",
    "\n",
    "#     grid_10m_metrics = forest_structure_metrics(x=x, y=y, z=z, xy_bin_size=10, z_bin_size=1)\n",
    "#     grid_10m_metrics_rnw = forest_structure_metrics(x=x, y=y, z=z, xy_bin_size=10, z_bin_size=1, weights=rn_weights, suffix='rnw')\n",
    "#     grid_10m_metrics_iw = forest_structure_metrics(x=x, y=y, z=z, xy_bin_size=10, z_bin_size=1, weights=i_weights, suffix='iw')\n",
    "#     grid_10m_metrics_fr = forest_structure_metrics(x=x_fr, y=y_fr, z=z_fr, xy_bin_size=10, z_bin_size=1, suffix='fr')\n",
    "#     grid_10m_metrics_v0 = forest_structure_metrics(x=x_v0, y=y_v0, z=z_v0, xy_bin_size=10, z_bin_size=1, suffix='v0')\n",
    "#     grid_10m_metrics_v05 = forest_structure_metrics(x=x_v05, y=y_v05, z=z_v05, xy_bin_size=10, z_bin_size=1, suffix='v05')\n",
    "\n",
    "#     grid_10m_metrics_merged = xr.merge([grid_10m_metrics, grid_10m_metrics_fr, grid_10m_metrics_iw, grid_10m_metrics_rnw, grid_10m_metrics_v0, grid_10m_metrics_v05])\n",
    "\n",
    "#     grid_5m_metrics = forest_structure_metrics(x=x, y=y, z=z, xy_bin_size=5, z_bin_size=1)\n",
    "#     grid_5m_metrics_rnw = forest_structure_metrics(x=x, y=y, z=z, xy_bin_size=5, z_bin_size=1, weights=rn_weights, suffix='rnw')\n",
    "#     grid_5m_metrics_iw = forest_structure_metrics(x=x, y=y, z=z, xy_bin_size=5, z_bin_size=1, weights=i_weights, suffix='iw')\n",
    "#     grid_5m_metrics_fr = forest_structure_metrics(x=x_fr, y=y_fr, z=z_fr, xy_bin_size=5, z_bin_size=1, suffix='fr')\n",
    "#     grid_5m_metrics_v0 = forest_structure_metrics(x=x_v0, y=y_v0, z=z_v0, xy_bin_size=5, z_bin_size=1, suffix='v0')\n",
    "#     grid_5m_metrics_v05 = forest_structure_metrics(x=x_v05, y=y_v05, z=z_v05, xy_bin_size=5, z_bin_size=1, suffix='v05')\n",
    "\n",
    "#     grid_5m_metrics_merged = xr.merge([grid_5m_metrics, grid_5m_metrics_fr, grid_5m_metrics_iw, grid_5m_metrics_rnw, grid_5m_metrics_v0, grid_5m_metrics_v05])\n",
    "\n",
    "#     grid_1m_metrics = forest_structure_metrics(x=x, y=y, z=z, xy_bin_size=1, z_bin_size=1)\n",
    "#     grid_1m_metrics_rnw = forest_structure_metrics(x=x, y=y, z=z, xy_bin_size=1, z_bin_size=1, weights=rn_weights, suffix='rnw')\n",
    "#     grid_1m_metrics_iw = forest_structure_metrics(x=x, y=y, z=z, xy_bin_size=1, z_bin_size=1, weights=i_weights, suffix='iw')\n",
    "#     grid_1m_metrics_fr = forest_structure_metrics(x=x_fr, y=y_fr, z=z_fr, xy_bin_size=1, z_bin_size=1, suffix='fr')\n",
    "#     grid_1m_metrics_v0 = forest_structure_metrics(x=x_v0, y=y_v0, z=z_v0, xy_bin_size=1, z_bin_size=1, suffix='v0')\n",
    "#     grid_1m_metrics_v05 = forest_structure_metrics(x=x_v05, y=y_v05, z=z_v05, xy_bin_size=1, z_bin_size=1, suffix='v05')\n",
    "\n",
    "#     grid_1m_metrics_merged = xr.merge([grid_1m_metrics, grid_1m_metrics_fr, grid_1m_metrics_iw, grid_1m_metrics_rnw, grid_1m_metrics_v0, grid_1m_metrics_v05])\n",
    "\n",
    "#     plot_metrics_merged.to_netcdf(no_grid_dir / f\"{plot_id}.nc\")\n",
    "#     grid_10m_metrics_merged.to_netcdf(grid_10m_dir / f\"{plot_id}.nc\")\n",
    "#     grid_5m_metrics_merged.to_netcdf(grid_5m_dir / f\"{plot_id}.nc\")\n",
    "#     grid_1m_metrics_merged.to_netcdf(grid_1m_dir / f\"{plot_id}.nc\")\n"
   ]
  },
  {
   "cell_type": "code",
   "execution_count": 6,
   "id": "15a71726",
   "metadata": {},
   "outputs": [],
   "source": [
    "# calculate_and_save_metrics(\"AGG_O_01_P1\")"
   ]
  },
  {
   "cell_type": "code",
   "execution_count": 7,
   "id": "7a3b1286",
   "metadata": {},
   "outputs": [],
   "source": [
    "# from dask.distributed import Client\n",
    "\n",
    "# client = Client()  # Start a Dask client\n",
    "# client"
   ]
  },
  {
   "cell_type": "code",
   "execution_count": 8,
   "id": "656d370c",
   "metadata": {},
   "outputs": [],
   "source": [
    "# futures = client.map(calculate_and_save_metrics, plot_ids, key=plot_ids)"
   ]
  },
  {
   "cell_type": "code",
   "execution_count": 9,
   "id": "bff78047",
   "metadata": {},
   "outputs": [],
   "source": [
    "# client.gather(futures)"
   ]
  },
  {
   "cell_type": "code",
   "execution_count": 10,
   "id": "f3f54055",
   "metadata": {},
   "outputs": [],
   "source": [
    "# client.close()"
   ]
  },
  {
   "cell_type": "code",
   "execution_count": 11,
   "id": "bf78a256",
   "metadata": {},
   "outputs": [],
   "source": [
    "points = read_plot_lidar(\"NRO_138_P4\")\n",
    "x = points['X']\n",
    "y = points['Y']\n",
    "z = points['Z']\n",
    "\n",
    "fr_mask = points['ReturnNumber'] == 1\n",
    "rn_weights = 1 / points['NumberOfReturns']\n",
    "i_weights = points['Intensity']\n",
    "\n",
    "\n",
    "v0_mask = z > 0\n",
    "v05_mask = z > 0.5\n",
    "\n",
    "x_fr = x[fr_mask]\n",
    "y_fr = y[fr_mask]\n",
    "z_fr = z[fr_mask]\n",
    "\n",
    "x_v0 = x[v0_mask]\n",
    "y_v0 = y[v0_mask]\n",
    "z_v0 = z[v0_mask]\n",
    "\n",
    "x_v05 = x[v05_mask]\n",
    "y_v05 = y[v05_mask]\n",
    "z_v05 = z[v05_mask]\n",
    "\n",
    "z_bin_size = 0.5\n",
    "\n",
    "plot_metrics_default = forest_structure_metrics(x=x, y=y, z=z, z_bin_size=z_bin_size)\n",
    "plot_metrics_rnw = forest_structure_metrics(x=x, y=y, z=z, z_bin_size=z_bin_size, weights=rn_weights)\n",
    "plot_metrics_iw = forest_structure_metrics(x=x, y=y, z=z, z_bin_size=z_bin_size, weights=i_weights)\n",
    "plot_metrics_fr = forest_structure_metrics(x=x_fr, y=y_fr, z=z_fr, z_bin_size=z_bin_size)\n",
    "plot_metrics_v0 = forest_structure_metrics(x=x_v0, y=y_v0, z=z_v0, z_bin_size=z_bin_size)\n",
    "plot_metrics_v05 = forest_structure_metrics(x=x_v05, y=y_v05, z=z_v05, z_bin_size=z_bin_size)"
   ]
  },
  {
   "cell_type": "code",
   "execution_count": 12,
   "id": "59edc158",
   "metadata": {},
   "outputs": [],
   "source": [
    "variant_index = pd.Index(['default', 'rnw', 'iw', 'fr', 'v0', 'v05'], name='variant')"
   ]
  },
  {
   "cell_type": "code",
   "execution_count": 13,
   "id": "bca3ff8b",
   "metadata": {},
   "outputs": [],
   "source": [
    "plot_metrics_merged = xr.concat([\n",
    "    plot_metrics_default,\n",
    "    plot_metrics_rnw,\n",
    "    plot_metrics_iw,\n",
    "    plot_metrics_fr,\n",
    "    plot_metrics_v0,\n",
    "    plot_metrics_v05\n",
    "], variant_index)\n",
    "\n",
    "# plot_metrics_with_variants.columns = variant_index\n"
   ]
  },
  {
   "cell_type": "code",
   "execution_count": 14,
   "id": "bf5906f7",
   "metadata": {},
   "outputs": [
    {
     "name": "stdout",
     "output_type": "stream",
     "text": [
      "0.00026171226636506617 2.349896192550659\n"
     ]
    }
   ],
   "source": [
    "print(plot_metrics_default['vai'].item(), plot_metrics_default['vai_profile'][0].item())"
   ]
  },
  {
   "cell_type": "code",
   "execution_count": 33,
   "id": "504eb294",
   "metadata": {},
   "outputs": [
    {
     "data": {
      "text/plain": [
       "[<matplotlib.lines.Line2D at 0x16b931810>]"
      ]
     },
     "execution_count": 33,
     "metadata": {},
     "output_type": "execute_result"
    },
    {
     "data": {
      "image/png": "[encoded data removed]",
      "text/plain": [
       "<Figure size 640x480 with 1 Axes>"
      ]
     },
     "metadata": {},
     "output_type": "display_data"
    }
   ],
   "source": [
    "plot_metrics_default['vai_slice'].plot(y='z')\n",
    "plot_metrics_default['vad'].plot(y='z')\n",
    "plot_metrics_default['vad_norm'].plot(y='z')\n",
    "(plot_metrics_default['vad'] * 2).plot(y='z')\n",
    "(plot_metrics_default['inside_pct'] / 100 * 2).plot(y='z')"
   ]
  }
 ],
 "metadata": {
  "kernelspec": {
   "display_name": "default",
   "language": "python",
   "name": "python3"
  },
  "language_info": {
   "codemirror_mode": {
    "name": "ipython",
    "version": 3
   },
   "file_extension": ".py",
   "mimetype": "text/x-python",
   "name": "python",
   "nbconvert_exporter": "python",
   "pygments_lexer": "ipython3",
   "version": "3.13.5"
  }
 },
 "nbformat": 4,
 "nbformat_minor": 5
}
