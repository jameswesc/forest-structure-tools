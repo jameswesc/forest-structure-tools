{
 "cells": [
  {
   "cell_type": "markdown",
   "id": "738ecc1d",
   "metadata": {},
   "source": [
    "# Visualise Plots"
   ]
  },
  {
   "cell_type": "code",
   "execution_count": 67,
   "id": "65c0799e",
   "metadata": {},
   "outputs": [],
   "source": [
    "import pdal\n",
    "import pandas as pd\n",
    "import numpy as np\n",
    "import geopandas as gpd\n",
    "\n",
    "import pyvista as pv\n",
    "pv.set_jupyter_backend('client')\n",
    "\n",
    "from pathlib import Path\n",
    "import ipywidgets as widgets\n",
    "from IPython.display import display"
   ]
  },
  {
   "cell_type": "code",
   "execution_count": 45,
   "id": "7b577025",
   "metadata": {},
   "outputs": [],
   "source": [
    "plot_lidar_dir = Path('../data/outputs/plots/lidar')\n",
    "plots_gdf = gpd.read_file('../data/outputs/plots/plots.geojson')\n",
    "plots = plots_gdf['site_plot_id'].to_list()"
   ]
  },
  {
   "cell_type": "code",
   "execution_count": 95,
   "id": "90341dbf",
   "metadata": {},
   "outputs": [],
   "source": [
    "def read_plot(plot_id: str):\n",
    "    plot_path = plot_lidar_dir / f\"{plot_id}.copc.laz\"\n",
    "    pl = pdal.Reader(str(plot_path)).pipeline()\n",
    "    pl.execute()\n",
    "    return pl.arrays[0]\n",
    "\n",
    "def render_point_cloud(points, color='rgb'):\n",
    "    X = points[\"X\"] - points[\"X\"].min()\n",
    "    Y = points[\"Y\"] - points[\"Y\"].min()\n",
    "    Z = points[\"Z\"]\n",
    "    positions = np.column_stack((X, Y, Z)).astype(\"float32\")\n",
    "\n",
    "    R = (points[\"Red\"] / 65535 * 255).astype(\"uint8\")\n",
    "    G = (points[\"Green\"] / 65535 * 255).astype(\"uint8\")\n",
    "    B = (points[\"Blue\"] / 65535 * 255).astype(\"uint8\")\n",
    "    colors = np.column_stack((R, G, B))\n",
    "\n",
    "    mesh = pv.PolyData(positions)\n",
    "    mesh['height'] = Z\n",
    "    mesh['rgb'] = colors\n",
    "    mesh.plot(point_size=2, scalars=color, rgb=(color == 'rgb'), notebook=True, cmap='inferno')\n",
    "\n",
    "def read_and_render_plot(plot_id: str, color='rgb'):\n",
    "    points = read_plot(plot_id)\n",
    "    render_point_cloud(points, color=color)"
   ]
  },
  {
   "cell_type": "code",
   "execution_count": 96,
   "id": "7d254277",
   "metadata": {},
   "outputs": [
    {
     "data": {
      "application/vnd.jupyter.widget-view+json": {
       "model_id": "c5f66a17f97a4f58b63111bb65aee70d",
       "version_major": 2,
       "version_minor": 0
      },
      "text/plain": [
       "interactive(children=(Dropdown(description='plot:', options=('AGG_O_01_P1', 'AGG_O_01_P2', 'AGG_O_01_P3', 'AGG…"
      ]
     },
     "metadata": {},
     "output_type": "display_data"
    }
   ],
   "source": [
    "# Create interactive widgets for site selection\n",
    "plot_dropdown = widgets.Dropdown(\n",
    "    options=plots,\n",
    "    value=plots[0] if plots else None,\n",
    "    description='plot:',\n",
    "    disabled=False,\n",
    ")\n",
    "\n",
    "color_dropdown = widgets.Dropdown(\n",
    "    options=['rgb', 'height'],\n",
    "    value='rgb',\n",
    "    description='Color by:',\n",
    "    disabled=False,\n",
    ")\n",
    "\n",
    "# Function to handle the plot update\n",
    "def update_plot(plot, color):\n",
    "    read_and_render_plot(plot, color=color)\n",
    "\n",
    "# Create interactive plot\n",
    "interactive_plot = widgets.interactive(update_plot, plot=plot_dropdown, color=color_dropdown)\n",
    "display(interactive_plot)"
   ]
  }
 ],
 "metadata": {
  "kernelspec": {
   "display_name": "default",
   "language": "python",
   "name": "python3"
  },
  "language_info": {
   "codemirror_mode": {
    "name": "ipython",
    "version": 3
   },
   "file_extension": ".py",
   "mimetype": "text/x-python",
   "name": "python",
   "nbconvert_exporter": "python",
   "pygments_lexer": "ipython3",
   "version": "3.13.5"
  }
 },
 "nbformat": 4,
 "nbformat_minor": 5
}
